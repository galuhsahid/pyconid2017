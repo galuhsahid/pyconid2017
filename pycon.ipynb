{
 "cells": [
  {
   "cell_type": "markdown",
   "metadata": {
    "collapsed": true
   },
   "source": [
    "# Campaign Success Predictor"
   ]
  },
  {
   "cell_type": "markdown",
   "metadata": {},
   "source": [
    "This is a simplified notebook for my PyCon talk, for demo purposes. :)"
   ]
  },
  {
   "cell_type": "code",
   "execution_count": 1,
   "metadata": {
    "collapsed": true
   },
   "outputs": [],
   "source": [
    "from sklearn.model_selection import GridSearchCV\n",
    "from sklearn import metrics\n",
    "from sklearn.preprocessing import StandardScaler\n",
    "from sklearn.ensemble import RandomForestRegressor\n",
    "from sklearn.externals import joblib\n",
    "import warnings\n",
    "import math"
   ]
  },
  {
   "cell_type": "code",
   "execution_count": 2,
   "metadata": {
    "collapsed": true
   },
   "outputs": [],
   "source": [
    "import matplotlib\n",
    "import matplotlib.pyplot as plt\n",
    "import seaborn as sn\n",
    "%matplotlib inline"
   ]
  },
  {
   "cell_type": "code",
   "execution_count": 3,
   "metadata": {
    "collapsed": true
   },
   "outputs": [],
   "source": [
    "import pandas as pd\n",
    "import numpy as np"
   ]
  },
  {
   "cell_type": "markdown",
   "metadata": {},
   "source": [
    "## Load Dataset"
   ]
  },
  {
   "cell_type": "code",
   "execution_count": 23,
   "metadata": {
    "collapsed": true
   },
   "outputs": [],
   "source": [
    "df = pd.read_csv(\"details.csv\")"
   ]
  },
  {
   "cell_type": "code",
   "execution_count": 24,
   "metadata": {
    "collapsed": false
   },
   "outputs": [],
   "source": [
    "X_train = pd.read_csv(\"X_train_w_tfidf.csv\")\n",
    "X_test = pd.read_csv(\"X_test_w_tfidf.csv\")\n",
    "y_train = pd.read_csv(\"y_train.csv\")['collected_amt']\n",
    "y_test = pd.read_csv(\"y_test.csv\")['collected_amt']"
   ]
  },
  {
   "cell_type": "code",
   "execution_count": 25,
   "metadata": {
    "collapsed": false
   },
   "outputs": [
    {
     "data": {
      "text/html": [
       "<div>\n",
       "<style>\n",
       "    .dataframe thead tr:only-child th {\n",
       "        text-align: right;\n",
       "    }\n",
       "\n",
       "    .dataframe thead th {\n",
       "        text-align: left;\n",
       "    }\n",
       "\n",
       "    .dataframe tbody tr th {\n",
       "        vertical-align: top;\n",
       "    }\n",
       "</style>\n",
       "<table border=\"1\" class=\"dataframe\">\n",
       "  <thead>\n",
       "    <tr style=\"text-align: right;\">\n",
       "      <th></th>\n",
       "      <th>id</th>\n",
       "      <th>campaign_url</th>\n",
       "      <th>title_wc</th>\n",
       "      <th>short_wc</th>\n",
       "      <th>story_wc</th>\n",
       "      <th>collected_amt</th>\n",
       "      <th>donation_target_amt</th>\n",
       "      <th>is_org</th>\n",
       "      <th>img_cnt</th>\n",
       "      <th>vid_cnt</th>\n",
       "      <th>...</th>\n",
       "      <th>update_cnt</th>\n",
       "      <th>reward_cnt</th>\n",
       "      <th>max_reward</th>\n",
       "      <th>min_reward</th>\n",
       "      <th>total_weight</th>\n",
       "      <th>median_weight</th>\n",
       "      <th>avg_weight</th>\n",
       "      <th>fb_reaction_count</th>\n",
       "      <th>fb_comment_count</th>\n",
       "      <th>fb_share_count</th>\n",
       "    </tr>\n",
       "  </thead>\n",
       "  <tbody>\n",
       "    <tr>\n",
       "      <th>0</th>\n",
       "      <td>0</td>\n",
       "      <td>https://kitabisa.com/savemugo</td>\n",
       "      <td>5.0</td>\n",
       "      <td>21.0</td>\n",
       "      <td>719.0</td>\n",
       "      <td>9713389.0</td>\n",
       "      <td>10400000</td>\n",
       "      <td>0.0</td>\n",
       "      <td>21.0</td>\n",
       "      <td>1.0</td>\n",
       "      <td>...</td>\n",
       "      <td>2.0</td>\n",
       "      <td>4.0</td>\n",
       "      <td>5000000.0</td>\n",
       "      <td>100000.0</td>\n",
       "      <td>0.398104</td>\n",
       "      <td>0.000000</td>\n",
       "      <td>0.000131</td>\n",
       "      <td>92</td>\n",
       "      <td>18</td>\n",
       "      <td>4</td>\n",
       "    </tr>\n",
       "    <tr>\n",
       "      <th>1</th>\n",
       "      <td>1</td>\n",
       "      <td>https://kitabisa.com/senyumuntukfatur</td>\n",
       "      <td>3.0</td>\n",
       "      <td>19.0</td>\n",
       "      <td>246.0</td>\n",
       "      <td>6432905.0</td>\n",
       "      <td>15000000</td>\n",
       "      <td>0.0</td>\n",
       "      <td>4.0</td>\n",
       "      <td>0.0</td>\n",
       "      <td>...</td>\n",
       "      <td>1.0</td>\n",
       "      <td>0.0</td>\n",
       "      <td>0.0</td>\n",
       "      <td>0.0</td>\n",
       "      <td>0.148271</td>\n",
       "      <td>0.000000</td>\n",
       "      <td>0.000185</td>\n",
       "      <td>6</td>\n",
       "      <td>1</td>\n",
       "      <td>7</td>\n",
       "    </tr>\n",
       "    <tr>\n",
       "      <th>2</th>\n",
       "      <td>2</td>\n",
       "      <td>https://kitabisa.com/musholahampirroboh</td>\n",
       "      <td>4.0</td>\n",
       "      <td>15.0</td>\n",
       "      <td>186.0</td>\n",
       "      <td>7257111.0</td>\n",
       "      <td>30000000</td>\n",
       "      <td>0.0</td>\n",
       "      <td>12.0</td>\n",
       "      <td>0.0</td>\n",
       "      <td>...</td>\n",
       "      <td>9.0</td>\n",
       "      <td>0.0</td>\n",
       "      <td>0.0</td>\n",
       "      <td>0.0</td>\n",
       "      <td>0.183283</td>\n",
       "      <td>0.001464</td>\n",
       "      <td>0.000291</td>\n",
       "      <td>1064</td>\n",
       "      <td>98</td>\n",
       "      <td>136</td>\n",
       "    </tr>\n",
       "    <tr>\n",
       "      <th>3</th>\n",
       "      <td>3</td>\n",
       "      <td>https://kitabisa.com/infifteenityspecial</td>\n",
       "      <td>7.0</td>\n",
       "      <td>22.0</td>\n",
       "      <td>248.0</td>\n",
       "      <td>50118.0</td>\n",
       "      <td>59478000</td>\n",
       "      <td>0.0</td>\n",
       "      <td>2.0</td>\n",
       "      <td>0.0</td>\n",
       "      <td>...</td>\n",
       "      <td>1.0</td>\n",
       "      <td>0.0</td>\n",
       "      <td>0.0</td>\n",
       "      <td>0.0</td>\n",
       "      <td>0.124878</td>\n",
       "      <td>0.000000</td>\n",
       "      <td>0.000113</td>\n",
       "      <td>3</td>\n",
       "      <td>1</td>\n",
       "      <td>8</td>\n",
       "    </tr>\n",
       "    <tr>\n",
       "      <th>4</th>\n",
       "      <td>4</td>\n",
       "      <td>https://kitabisa.com/buahhati</td>\n",
       "      <td>6.0</td>\n",
       "      <td>22.0</td>\n",
       "      <td>409.0</td>\n",
       "      <td>4075851.0</td>\n",
       "      <td>500000000</td>\n",
       "      <td>0.0</td>\n",
       "      <td>2.0</td>\n",
       "      <td>0.0</td>\n",
       "      <td>...</td>\n",
       "      <td>1.0</td>\n",
       "      <td>0.0</td>\n",
       "      <td>0.0</td>\n",
       "      <td>0.0</td>\n",
       "      <td>0.268064</td>\n",
       "      <td>0.000000</td>\n",
       "      <td>0.000186</td>\n",
       "      <td>47</td>\n",
       "      <td>1</td>\n",
       "      <td>16</td>\n",
       "    </tr>\n",
       "  </tbody>\n",
       "</table>\n",
       "<p>5 rows × 22 columns</p>\n",
       "</div>"
      ],
      "text/plain": [
       "   id                              campaign_url  title_wc  short_wc  story_wc  \\\n",
       "0   0             https://kitabisa.com/savemugo       5.0      21.0     719.0   \n",
       "1   1     https://kitabisa.com/senyumuntukfatur       3.0      19.0     246.0   \n",
       "2   2   https://kitabisa.com/musholahampirroboh       4.0      15.0     186.0   \n",
       "3   3  https://kitabisa.com/infifteenityspecial       7.0      22.0     248.0   \n",
       "4   4             https://kitabisa.com/buahhati       6.0      22.0     409.0   \n",
       "\n",
       "   collected_amt  donation_target_amt  is_org  img_cnt  vid_cnt  \\\n",
       "0      9713389.0             10400000     0.0     21.0      1.0   \n",
       "1      6432905.0             15000000     0.0      4.0      0.0   \n",
       "2      7257111.0             30000000     0.0     12.0      0.0   \n",
       "3        50118.0             59478000     0.0      2.0      0.0   \n",
       "4      4075851.0            500000000     0.0      2.0      0.0   \n",
       "\n",
       "        ...        update_cnt  reward_cnt  max_reward  min_reward  \\\n",
       "0       ...               2.0         4.0   5000000.0    100000.0   \n",
       "1       ...               1.0         0.0         0.0         0.0   \n",
       "2       ...               9.0         0.0         0.0         0.0   \n",
       "3       ...               1.0         0.0         0.0         0.0   \n",
       "4       ...               1.0         0.0         0.0         0.0   \n",
       "\n",
       "   total_weight  median_weight  avg_weight  fb_reaction_count  \\\n",
       "0      0.398104       0.000000    0.000131                 92   \n",
       "1      0.148271       0.000000    0.000185                  6   \n",
       "2      0.183283       0.001464    0.000291               1064   \n",
       "3      0.124878       0.000000    0.000113                  3   \n",
       "4      0.268064       0.000000    0.000186                 47   \n",
       "\n",
       "   fb_comment_count  fb_share_count  \n",
       "0                18               4  \n",
       "1                 1               7  \n",
       "2                98             136  \n",
       "3                 1               8  \n",
       "4                 1              16  \n",
       "\n",
       "[5 rows x 22 columns]"
      ]
     },
     "execution_count": 25,
     "metadata": {},
     "output_type": "execute_result"
    }
   ],
   "source": [
    "df.head()"
   ]
  },
  {
   "cell_type": "markdown",
   "metadata": {},
   "source": [
    "## Columns"
   ]
  },
  {
   "cell_type": "code",
   "execution_count": 26,
   "metadata": {
    "collapsed": false
   },
   "outputs": [
    {
     "data": {
      "text/plain": [
       "Index([u'id', u'campaign_url', u'title_wc', u'short_wc', u'story_wc',\n",
       "       u'collected_amt', u'donation_target_amt', u'is_org', u'img_cnt',\n",
       "       u'vid_cnt', u'donor_cnt', u'fundraiser_cnt', u'update_cnt',\n",
       "       u'reward_cnt', u'max_reward', u'min_reward', u'total_weight',\n",
       "       u'median_weight', u'avg_weight', u'fb_reaction_count',\n",
       "       u'fb_comment_count', u'fb_share_count'],\n",
       "      dtype='object')"
      ]
     },
     "execution_count": 26,
     "metadata": {},
     "output_type": "execute_result"
    }
   ],
   "source": [
    "df.columns"
   ]
  },
  {
   "cell_type": "code",
   "execution_count": 27,
   "metadata": {
    "collapsed": false
   },
   "outputs": [
    {
     "data": {
      "text/plain": [
       "22"
      ]
     },
     "execution_count": 27,
     "metadata": {},
     "output_type": "execute_result"
    }
   ],
   "source": [
    "len(df.columns)"
   ]
  },
  {
   "cell_type": "markdown",
   "metadata": {},
   "source": [
    "## Stats"
   ]
  },
  {
   "cell_type": "code",
   "execution_count": 28,
   "metadata": {
    "collapsed": false
   },
   "outputs": [
    {
     "name": "stdout",
     "output_type": "stream",
     "text": [
      "Average donation target amount: 878035998.673\n",
      "Minimum donation target amount: 200000\n",
      "Maximum donation target amount: 1650000000000\n"
     ]
    }
   ],
   "source": [
    "print \"Average donation target amount: {}\".format(np.average(df[\"donation_target_amt\"]))\n",
    "print \"Minimum donation target amount: {}\".format(np.min(df[\"donation_target_amt\"]))\n",
    "print \"Maximum donation target amount: {}\".format(np.max(df[\"donation_target_amt\"]))"
   ]
  },
  {
   "cell_type": "code",
   "execution_count": 29,
   "metadata": {
    "collapsed": false
   },
   "outputs": [
    {
     "name": "stdout",
     "output_type": "stream",
     "text": [
      "Average collected amount: 16887005.9773\n",
      "Minimum collected amount: 20000.0\n",
      "Maximum collected amount: 3189965980.0\n"
     ]
    }
   ],
   "source": [
    "print \"Average collected amount: {}\".format(np.average(df[\"collected_amt\"]))\n",
    "print \"Minimum collected amount: {}\".format(np.min(df[\"collected_amt\"]))\n",
    "print \"Maximum collected amount: {}\".format(np.max(df[\"collected_amt\"]))"
   ]
  },
  {
   "cell_type": "markdown",
   "metadata": {},
   "source": [
    "## Drop unnecessary columns"
   ]
  },
  {
   "cell_type": "code",
   "execution_count": 30,
   "metadata": {
    "collapsed": true
   },
   "outputs": [],
   "source": [
    "dropped_columns = ['Unnamed: 0', 'id', 'campaign_url', 'median_weight', 'total_weight', 'avg_weight']"
   ]
  },
  {
   "cell_type": "code",
   "execution_count": 31,
   "metadata": {
    "collapsed": false
   },
   "outputs": [],
   "source": [
    "X_train = X_train.drop(dropped_columns, axis=1)\n",
    "X_test = X_test.drop(dropped_columns, axis=1)"
   ]
  },
  {
   "cell_type": "markdown",
   "metadata": {},
   "source": [
    "## Standardization and Transformation"
   ]
  },
  {
   "cell_type": "code",
   "execution_count": 35,
   "metadata": {
    "collapsed": false
   },
   "outputs": [],
   "source": [
    "scalerX = StandardScaler().fit(X_train)\n",
    "X_train = scalerX.transform(X_train)\n",
    "X_test = scalerX.transform(X_test)\n",
    "\n",
    "y_train = np.log1p(y_train) # log transformation"
   ]
  },
  {
   "cell_type": "code",
   "execution_count": 47,
   "metadata": {
    "collapsed": false
   },
   "outputs": [
    {
     "data": {
      "text/plain": [
       "17"
      ]
     },
     "execution_count": 47,
     "metadata": {},
     "output_type": "execute_result"
    }
   ],
   "source": [
    "len(X_test[0])"
   ]
  },
  {
   "cell_type": "markdown",
   "metadata": {},
   "source": [
    "## Random Forest"
   ]
  },
  {
   "cell_type": "code",
   "execution_count": 36,
   "metadata": {
    "collapsed": false
   },
   "outputs": [],
   "source": [
    "rf = RandomForestRegressor(n_estimators=300)\n",
    "rf.fit(X_train, y_train)\n",
    "prediction = rf.predict(X = X_test)\n",
    "prediction_ori_scale = np.expm1(prediction)"
   ]
  },
  {
   "cell_type": "code",
   "execution_count": 37,
   "metadata": {
    "collapsed": false
   },
   "outputs": [
    {
     "data": {
      "text/plain": [
       "14606034.523203889"
      ]
     },
     "execution_count": 37,
     "metadata": {},
     "output_type": "execute_result"
    }
   ],
   "source": [
    "# RMSE\n",
    "rmse = np.sqrt(np.mean((y_test-prediction_ori_scale)**2))\n",
    "rmse"
   ]
  },
  {
   "cell_type": "code",
   "execution_count": 38,
   "metadata": {
    "collapsed": false
   },
   "outputs": [
    {
     "data": {
      "text/plain": [
       "0.59164570215139789"
      ]
     },
     "execution_count": 38,
     "metadata": {},
     "output_type": "execute_result"
    }
   ],
   "source": [
    "# R^2\n",
    "r2 = metrics.r2_score(np.array(y_test), np.array(prediction_ori_scale))\n",
    "r2"
   ]
  },
  {
   "cell_type": "markdown",
   "metadata": {},
   "source": [
    "## Save the Model\n"
   ]
  },
  {
   "cell_type": "code",
   "execution_count": 39,
   "metadata": {
    "collapsed": false
   },
   "outputs": [
    {
     "data": {
      "text/plain": [
       "['model.sav']"
      ]
     },
     "execution_count": 39,
     "metadata": {},
     "output_type": "execute_result"
    }
   ],
   "source": [
    "file_name = 'model.sav'\n",
    "joblib.dump(rf, file_name)"
   ]
  },
  {
   "cell_type": "code",
   "execution_count": 40,
   "metadata": {
    "collapsed": false
   },
   "outputs": [
    {
     "data": {
      "image/png": "[encoded data removed]",
      "text/plain": [
       "<matplotlib.figure.Figure at 0x1a18a7c710>"
      ]
     },
     "metadata": {},
     "output_type": "display_data"
    }
   ],
   "source": [
    "plt.scatter(prediction_ori_scale, y_test, alpha=.75, color='b')\n",
    "plt.xlabel('Predicted Funding Amount')\n",
    "plt.ylabel('Actual Funding Amount')\n",
    "plt.title('Random Forest Regression Model')\n",
    "plt.show()"
   ]
  },
  {
   "cell_type": "code",
   "execution_count": null,
   "metadata": {
    "collapsed": true
   },
   "outputs": [],
   "source": []
  }
 ],
 "metadata": {
  "kernelspec": {
   "display_name": "Python 2",
   "language": "python",
   "name": "python2"
  },
  "language_info": {
   "codemirror_mode": {
    "name": "ipython",
    "version": 2
   },
   "file_extension": ".py",
   "mimetype": "text/x-python",
   "name": "python",
   "nbconvert_exporter": "python",
   "pygments_lexer": "ipython2",
   "version": "2.7.13"
  }
 },
 "nbformat": 4,
 "nbformat_minor": 2
}
