{
 "cells": [
  {
   "cell_type": "markdown",
   "metadata": {
    "collapsed": true
   },
   "source": [
    "# Data Visualization"
   ]
  },
  {
   "cell_type": "code",
   "execution_count": null,
   "metadata": {
    "collapsed": true
   },
   "outputs": [],
   "source": [
    "import matplotlib\n",
    "import matplotlib.pyplot as plt\n",
    "import seaborn as sns\n",
    "%matplotlib inline\n",
    "import pandas as pd\n",
    "import numpy as np"
   ]
  },
  {
   "cell_type": "code",
   "execution_count": 5,
   "metadata": {
    "collapsed": true
   },
   "outputs": [],
   "source": [
    "df = pd.read_csv(\"details.csv\")"
   ]
  },
  {
   "cell_type": "code",
   "execution_count": 6,
   "metadata": {
    "collapsed": false
   },
   "outputs": [
    {
     "data": {
      "text/html": [
       "<div>\n",
       "<style>\n",
       "    .dataframe thead tr:only-child th {\n",
       "        text-align: right;\n",
       "    }\n",
       "\n",
       "    .dataframe thead th {\n",
       "        text-align: left;\n",
       "    }\n",
       "\n",
       "    .dataframe tbody tr th {\n",
       "        vertical-align: top;\n",
       "    }\n",
       "</style>\n",
       "<table border=\"1\" class=\"dataframe\">\n",
       "  <thead>\n",
       "    <tr style=\"text-align: right;\">\n",
       "      <th></th>\n",
       "      <th>id</th>\n",
       "      <th>campaign_url</th>\n",
       "      <th>title_wc</th>\n",
       "      <th>short_wc</th>\n",
       "      <th>story_wc</th>\n",
       "      <th>collected_amt</th>\n",
       "      <th>donation_target_amt</th>\n",
       "      <th>is_org</th>\n",
       "      <th>img_cnt</th>\n",
       "      <th>vid_cnt</th>\n",
       "      <th>...</th>\n",
       "      <th>update_cnt</th>\n",
       "      <th>reward_cnt</th>\n",
       "      <th>max_reward</th>\n",
       "      <th>min_reward</th>\n",
       "      <th>total_weight</th>\n",
       "      <th>median_weight</th>\n",
       "      <th>avg_weight</th>\n",
       "      <th>fb_reaction_count</th>\n",
       "      <th>fb_comment_count</th>\n",
       "      <th>fb_share_count</th>\n",
       "    </tr>\n",
       "  </thead>\n",
       "  <tbody>\n",
       "    <tr>\n",
       "      <th>0</th>\n",
       "      <td>0</td>\n",
       "      <td>https://kitabisa.com/savemugo</td>\n",
       "      <td>5.0</td>\n",
       "      <td>21.0</td>\n",
       "      <td>719.0</td>\n",
       "      <td>9713389.0</td>\n",
       "      <td>10400000</td>\n",
       "      <td>0.0</td>\n",
       "      <td>21.0</td>\n",
       "      <td>1.0</td>\n",
       "      <td>...</td>\n",
       "      <td>2.0</td>\n",
       "      <td>4.0</td>\n",
       "      <td>5000000.0</td>\n",
       "      <td>100000.0</td>\n",
       "      <td>0.398104</td>\n",
       "      <td>0.000000</td>\n",
       "      <td>0.000131</td>\n",
       "      <td>92</td>\n",
       "      <td>18</td>\n",
       "      <td>4</td>\n",
       "    </tr>\n",
       "    <tr>\n",
       "      <th>1</th>\n",
       "      <td>1</td>\n",
       "      <td>https://kitabisa.com/senyumuntukfatur</td>\n",
       "      <td>3.0</td>\n",
       "      <td>19.0</td>\n",
       "      <td>246.0</td>\n",
       "      <td>6432905.0</td>\n",
       "      <td>15000000</td>\n",
       "      <td>0.0</td>\n",
       "      <td>4.0</td>\n",
       "      <td>0.0</td>\n",
       "      <td>...</td>\n",
       "      <td>1.0</td>\n",
       "      <td>0.0</td>\n",
       "      <td>0.0</td>\n",
       "      <td>0.0</td>\n",
       "      <td>0.148271</td>\n",
       "      <td>0.000000</td>\n",
       "      <td>0.000185</td>\n",
       "      <td>6</td>\n",
       "      <td>1</td>\n",
       "      <td>7</td>\n",
       "    </tr>\n",
       "    <tr>\n",
       "      <th>2</th>\n",
       "      <td>2</td>\n",
       "      <td>https://kitabisa.com/musholahampirroboh</td>\n",
       "      <td>4.0</td>\n",
       "      <td>15.0</td>\n",
       "      <td>186.0</td>\n",
       "      <td>7257111.0</td>\n",
       "      <td>30000000</td>\n",
       "      <td>0.0</td>\n",
       "      <td>12.0</td>\n",
       "      <td>0.0</td>\n",
       "      <td>...</td>\n",
       "      <td>9.0</td>\n",
       "      <td>0.0</td>\n",
       "      <td>0.0</td>\n",
       "      <td>0.0</td>\n",
       "      <td>0.183283</td>\n",
       "      <td>0.001464</td>\n",
       "      <td>0.000291</td>\n",
       "      <td>1064</td>\n",
       "      <td>98</td>\n",
       "      <td>136</td>\n",
       "    </tr>\n",
       "    <tr>\n",
       "      <th>3</th>\n",
       "      <td>3</td>\n",
       "      <td>https://kitabisa.com/infifteenityspecial</td>\n",
       "      <td>7.0</td>\n",
       "      <td>22.0</td>\n",
       "      <td>248.0</td>\n",
       "      <td>50118.0</td>\n",
       "      <td>59478000</td>\n",
       "      <td>0.0</td>\n",
       "      <td>2.0</td>\n",
       "      <td>0.0</td>\n",
       "      <td>...</td>\n",
       "      <td>1.0</td>\n",
       "      <td>0.0</td>\n",
       "      <td>0.0</td>\n",
       "      <td>0.0</td>\n",
       "      <td>0.124878</td>\n",
       "      <td>0.000000</td>\n",
       "      <td>0.000113</td>\n",
       "      <td>3</td>\n",
       "      <td>1</td>\n",
       "      <td>8</td>\n",
       "    </tr>\n",
       "    <tr>\n",
       "      <th>4</th>\n",
       "      <td>4</td>\n",
       "      <td>https://kitabisa.com/buahhati</td>\n",
       "      <td>6.0</td>\n",
       "      <td>22.0</td>\n",
       "      <td>409.0</td>\n",
       "      <td>4075851.0</td>\n",
       "      <td>500000000</td>\n",
       "      <td>0.0</td>\n",
       "      <td>2.0</td>\n",
       "      <td>0.0</td>\n",
       "      <td>...</td>\n",
       "      <td>1.0</td>\n",
       "      <td>0.0</td>\n",
       "      <td>0.0</td>\n",
       "      <td>0.0</td>\n",
       "      <td>0.268064</td>\n",
       "      <td>0.000000</td>\n",
       "      <td>0.000186</td>\n",
       "      <td>47</td>\n",
       "      <td>1</td>\n",
       "      <td>16</td>\n",
       "    </tr>\n",
       "  </tbody>\n",
       "</table>\n",
       "<p>5 rows × 22 columns</p>\n",
       "</div>"
      ],
      "text/plain": [
       "   id                              campaign_url  title_wc  short_wc  story_wc  \\\n",
       "0   0             https://kitabisa.com/savemugo       5.0      21.0     719.0   \n",
       "1   1     https://kitabisa.com/senyumuntukfatur       3.0      19.0     246.0   \n",
       "2   2   https://kitabisa.com/musholahampirroboh       4.0      15.0     186.0   \n",
       "3   3  https://kitabisa.com/infifteenityspecial       7.0      22.0     248.0   \n",
       "4   4             https://kitabisa.com/buahhati       6.0      22.0     409.0   \n",
       "\n",
       "   collected_amt  donation_target_amt  is_org  img_cnt  vid_cnt  \\\n",
       "0      9713389.0             10400000     0.0     21.0      1.0   \n",
       "1      6432905.0             15000000     0.0      4.0      0.0   \n",
       "2      7257111.0             30000000     0.0     12.0      0.0   \n",
       "3        50118.0             59478000     0.0      2.0      0.0   \n",
       "4      4075851.0            500000000     0.0      2.0      0.0   \n",
       "\n",
       "        ...        update_cnt  reward_cnt  max_reward  min_reward  \\\n",
       "0       ...               2.0         4.0   5000000.0    100000.0   \n",
       "1       ...               1.0         0.0         0.0         0.0   \n",
       "2       ...               9.0         0.0         0.0         0.0   \n",
       "3       ...               1.0         0.0         0.0         0.0   \n",
       "4       ...               1.0         0.0         0.0         0.0   \n",
       "\n",
       "   total_weight  median_weight  avg_weight  fb_reaction_count  \\\n",
       "0      0.398104       0.000000    0.000131                 92   \n",
       "1      0.148271       0.000000    0.000185                  6   \n",
       "2      0.183283       0.001464    0.000291               1064   \n",
       "3      0.124878       0.000000    0.000113                  3   \n",
       "4      0.268064       0.000000    0.000186                 47   \n",
       "\n",
       "   fb_comment_count  fb_share_count  \n",
       "0                18               4  \n",
       "1                 1               7  \n",
       "2                98             136  \n",
       "3                 1               8  \n",
       "4                 1              16  \n",
       "\n",
       "[5 rows x 22 columns]"
      ]
     },
     "execution_count": 6,
     "metadata": {},
     "output_type": "execute_result"
    }
   ],
   "source": [
    "df.head()"
   ]
  },
  {
   "cell_type": "code",
   "execution_count": 7,
   "metadata": {
    "collapsed": false
   },
   "outputs": [],
   "source": [
    "bins = [0, 500000 , 1000000, 5000000, 10000000, 50000000, 100000000, 500000000, 1000000000, 5000000000]"
   ]
  },
  {
   "cell_type": "code",
   "execution_count": 8,
   "metadata": {
    "collapsed": false
   },
   "outputs": [],
   "source": [
    "groups = df.groupby(pd.cut(df.collected_amt, bins))"
   ]
  },
  {
   "cell_type": "code",
   "execution_count": 9,
   "metadata": {
    "collapsed": false
   },
   "outputs": [],
   "source": [
    "df_binned = pd.DataFrame(groups.mean().fb_share_count)"
   ]
  },
  {
   "cell_type": "code",
   "execution_count": 12,
   "metadata": {
    "collapsed": false
   },
   "outputs": [],
   "source": [
    "df_binned = df_binned.reset_index()"
   ]
  },
  {
   "cell_type": "code",
   "execution_count": 13,
   "metadata": {
    "collapsed": false
   },
   "outputs": [
    {
     "data": {
      "text/html": [
       "<div>\n",
       "<style>\n",
       "    .dataframe thead tr:only-child th {\n",
       "        text-align: right;\n",
       "    }\n",
       "\n",
       "    .dataframe thead th {\n",
       "        text-align: left;\n",
       "    }\n",
       "\n",
       "    .dataframe tbody tr th {\n",
       "        vertical-align: top;\n",
       "    }\n",
       "</style>\n",
       "<table border=\"1\" class=\"dataframe\">\n",
       "  <thead>\n",
       "    <tr style=\"text-align: right;\">\n",
       "      <th></th>\n",
       "      <th>collected_amt</th>\n",
       "      <th>fb_share_count</th>\n",
       "    </tr>\n",
       "  </thead>\n",
       "  <tbody>\n",
       "    <tr>\n",
       "      <th>0</th>\n",
       "      <td>(0, 500000]</td>\n",
       "      <td>9.808696</td>\n",
       "    </tr>\n",
       "    <tr>\n",
       "      <th>1</th>\n",
       "      <td>(500000, 1000000]</td>\n",
       "      <td>16.404762</td>\n",
       "    </tr>\n",
       "    <tr>\n",
       "      <th>2</th>\n",
       "      <td>(1000000, 5000000]</td>\n",
       "      <td>20.898405</td>\n",
       "    </tr>\n",
       "    <tr>\n",
       "      <th>3</th>\n",
       "      <td>(5000000, 10000000]</td>\n",
       "      <td>33.576520</td>\n",
       "    </tr>\n",
       "    <tr>\n",
       "      <th>4</th>\n",
       "      <td>(10000000, 50000000]</td>\n",
       "      <td>91.839937</td>\n",
       "    </tr>\n",
       "    <tr>\n",
       "      <th>5</th>\n",
       "      <td>(50000000, 100000000]</td>\n",
       "      <td>209.343750</td>\n",
       "    </tr>\n",
       "    <tr>\n",
       "      <th>6</th>\n",
       "      <td>(100000000, 500000000]</td>\n",
       "      <td>707.451613</td>\n",
       "    </tr>\n",
       "    <tr>\n",
       "      <th>7</th>\n",
       "      <td>(500000000, 1000000000]</td>\n",
       "      <td>1076.900000</td>\n",
       "    </tr>\n",
       "    <tr>\n",
       "      <th>8</th>\n",
       "      <td>(1000000000, 5000000000]</td>\n",
       "      <td>6657.000000</td>\n",
       "    </tr>\n",
       "  </tbody>\n",
       "</table>\n",
       "</div>"
      ],
      "text/plain": [
       "              collected_amt  fb_share_count\n",
       "0               (0, 500000]        9.808696\n",
       "1         (500000, 1000000]       16.404762\n",
       "2        (1000000, 5000000]       20.898405\n",
       "3       (5000000, 10000000]       33.576520\n",
       "4      (10000000, 50000000]       91.839937\n",
       "5     (50000000, 100000000]      209.343750\n",
       "6    (100000000, 500000000]      707.451613\n",
       "7   (500000000, 1000000000]     1076.900000\n",
       "8  (1000000000, 5000000000]     6657.000000"
      ]
     },
     "execution_count": 13,
     "metadata": {},
     "output_type": "execute_result"
    }
   ],
   "source": [
    "df_binned"
   ]
  },
  {
   "cell_type": "code",
   "execution_count": 46,
   "metadata": {
    "collapsed": true
   },
   "outputs": [],
   "source": [
    "columns = ['0 - Rp500.000,-', \n",
    "       '> Rp500.000, - Rp1.000.000,-', \n",
    "       '>Rp1.000.000,- - Rp5.000.000,-',\n",
    "       '>Rp5.000.000,- - Rp10.000.000,-',\n",
    "       '>Rp10.000.000,- - Rp50.000.000,-',\n",
    "       '>Rp50.000.000,- - Rp100.000.000,-',\n",
    "       '>Rp100.000.000,- - Rp500.000.000,-',\n",
    "       '>Rp500.000.000,- - Rp1.000.000.000,-',\n",
    "       '>Rp1.000.000.000,- - Rp5.000.000.000,-']"
   ]
  },
  {
   "cell_type": "code",
   "execution_count": 67,
   "metadata": {
    "collapsed": false
   },
   "outputs": [
    {
     "name": "stdout",
     "output_type": "stream",
     "text": [
      ">Rp50.000.000,- - Rp100.000.000,-\n",
      "209.34375\n"
     ]
    }
   ],
   "source": [
    "colors = [\"#999999\"]*len(bins)\n",
    "target_bin = ''\n",
    "# Set stand out color\n",
    "for i in xrange(len(colors)):\n",
    "    if 100000000 in list(df_binned['collected_amt'])[i]:\n",
    "        colors[i] = \"#2ecc71\"\n",
    "        target_bin = columns[i]\n",
    "        target_bin_avg = df_binned['fb_share_count'][i]\n",
    "        break"
   ]
  },
  {
   "cell_type": "code",
   "execution_count": 68,
   "metadata": {
    "collapsed": false
   },
   "outputs": [
    {
     "data": {
      "image/png": "[encoded data removed]",
      "text/plain": [
       "<matplotlib.figure.Figure at 0x1a143be790>"
      ]
     },
     "metadata": {},
     "output_type": "display_data"
    }
   ],
   "source": [
    "fig, ax = plt.subplots(figsize=(12,10))\n",
    "ax = sns.barplot(x='collected_amt', y='fb_share_count', data=df_binned, palette=colors)\n",
    "ax.set(xlabel='Average Number of Facebook Shares', ylabel='Collected Amount')\n",
    "ax.set_xticklabels(columns,rotation=30)\n",
    "plt.show()"
   ]
  }
 ],
 "metadata": {
  "kernelspec": {
   "display_name": "Python 2",
   "language": "python",
   "name": "python2"
  },
  "language_info": {
   "codemirror_mode": {
    "name": "ipython",
    "version": 2
   },
   "file_extension": ".py",
   "mimetype": "text/x-python",
   "name": "python",
   "nbconvert_exporter": "python",
   "pygments_lexer": "ipython2",
   "version": "2.7.13"
  }
 },
 "nbformat": 4,
 "nbformat_minor": 2
}
